{
 "cells": [
  {
   "cell_type": "code",
   "execution_count": 12,
   "id": "ab8ead01",
   "metadata": {},
   "outputs": [],
   "source": [
    "ls = {\n",
    "    'Diabetes':'2022-04-30 01.07.18.sav',\n",
    "        'CKD':'2018-04-21 16.51.12.sav',\n",
    "        'Diabetes':'2022-04-30 01.07.18.sav',\n",
    "        'Diabetes':'2022-04-30 01.07.18.sav',\n",
    "        'Diabetes':'2022-04-30 01.07.18.sav',\n",
    "        'Diabetes':'2022-04-30 01.07.18.sav',\n",
    "        'Diabetes':'2022-04-30 01.07.18.sav',\n",
    "    \n",
    "}\n",
    "\n",
    "# import pickle\n",
    "# clf = pickle.load(open('hypovoting947368.sav', 'rb'))\n",
    "# clf.__getstate__()['_sklearn_version']"
   ]
  },
  {
   "cell_type": "code",
   "execution_count": 9,
   "id": "5b24870a",
   "metadata": {},
   "outputs": [
    {
     "name": "stdout",
     "output_type": "stream",
     "text": [
      "The model was saved using scikit-learn version: 1.2.2\n"
     ]
    },
    {
     "name": "stderr",
     "output_type": "stream",
     "text": [
      "c:\\ProgramData\\anaconda3\\Lib\\site-packages\\sklearn\\base.py:318: UserWarning: Trying to unpickle estimator KNeighborsClassifier from version 1.2.1 when using version 1.2.2. This might lead to breaking code or invalid results. Use at your own risk. For more info please refer to:\n",
      "https://scikit-learn.org/stable/model_persistence.html#security-maintainability-limitations\n",
      "  warnings.warn(\n"
     ]
    }
   ],
   "source": [
    "import joblib\n",
    "\n",
    "# Load the model from the file\n",
    "model = joblib.load(r'C:\\Users\\Admin\\Downloads\\FA1 website code-final\\FA1 website code\\uni website - Final\\static\\model\\COPD.sav')\n",
    "\n",
    "# Check if there's an attribute storing the scikit-learn version\n",
    "# This might not exist and could raise an AttributeError if not handled\n",
    "try:\n",
    "    print(\"The model was saved using scikit-learn version:\", model.__getstate__()['_sklearn_version'])\n",
    "except AttributeError:\n",
    "    print(\"No version information available directly in the model.\")\n"
   ]
  }
 ],
 "metadata": {
  "kernelspec": {
   "display_name": "Python 3 (ipykernel)",
   "language": "python",
   "name": "python3"
  },
  "language_info": {
   "codemirror_mode": {
    "name": "ipython",
    "version": 3
   },
   "file_extension": ".py",
   "mimetype": "text/x-python",
   "name": "python",
   "nbconvert_exporter": "python",
   "pygments_lexer": "ipython3",
   "version": "3.11.7"
  }
 },
 "nbformat": 4,
 "nbformat_minor": 5
}
